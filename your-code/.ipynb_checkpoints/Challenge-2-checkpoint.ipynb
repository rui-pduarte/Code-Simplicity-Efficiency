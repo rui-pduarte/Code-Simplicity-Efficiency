{
 "cells": [
  {
   "cell_type": "code",
   "execution_count": 4,
   "metadata": {
    "scrolled": true
   },
   "outputs": [
    {
     "name": "stdout",
     "output_type": "stream",
     "text": [
      "Enter minimum string length: 2\n",
      "Enter maximum string length: 4\n",
      "How many random strings to generate? 3\n",
      "['BDSk', '52', 'leK']\n"
     ]
    }
   ],
   "source": [
    "\"\"\"\n",
    "I kept the structure (despite breaking the string generator to a char and string generator).\n",
    "I kept the same input and output messages as I believe that was intended. \n",
    "I moved the import random up since it was called many times.\n",
    "I reduced cycles as much as I could and used list comps when I used them.\n",
    "I took preassigned values to input parameters because we were not using them.\n",
    "I note that other functionalities could be added (such as not allowing for zero or negative values,\n",
    "not allowing for values higher than a certain amount... etc), \n",
    "but I understand that was not intended for this lab.\n",
    "PS: string librabry contains some interesting constants without going to the re library.\n",
    "Other options would be re library, or iterating over the chr() function...\n",
    "\"\"\"\n",
    "import random\n",
    "import string\n",
    "def RandomCharacter():\n",
    "    return random.choice(list(string.ascii_letters + string.digits))\n",
    "def RandomStringGenerator(min_len,max_len): \n",
    "    size = random.randrange(min_len, max_len+1)\n",
    "    return \"\".join([RandomCharacter() for i in range(size)])\n",
    "def BatchStringGenerator(n,min_len,max_len):\n",
    "    if min_len > max_len:\n",
    "        return 'Incorrect min and max string lengths. Try again.'\n",
    "    else:\n",
    "        return[RandomStringGenerator(min_len,max_len) for i in range(n)]\n",
    "a = input('Enter minimum string length: ')\n",
    "b = input('Enter maximum string length: ')\n",
    "n = input('How many random strings to generate? ')\n",
    "print(BatchStringGenerator(int(n), int(a), int(b)))"
   ]
  },
  {
   "cell_type": "code",
   "execution_count": null,
   "metadata": {},
   "outputs": [],
   "source": []
  }
 ],
 "metadata": {
  "kernelspec": {
   "display_name": "Python 3",
   "language": "python",
   "name": "python3"
  },
  "language_info": {
   "codemirror_mode": {
    "name": "ipython",
    "version": 3
   },
   "file_extension": ".py",
   "mimetype": "text/x-python",
   "name": "python",
   "nbconvert_exporter": "python",
   "pygments_lexer": "ipython3",
   "version": "3.8.2"
  }
 },
 "nbformat": 4,
 "nbformat_minor": 4
}
