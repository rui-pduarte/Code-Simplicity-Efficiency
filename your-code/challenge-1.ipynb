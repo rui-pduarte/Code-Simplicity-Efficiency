{
 "cells": [
  {
   "cell_type": "code",
   "execution_count": null,
   "metadata": {},
   "outputs": [],
   "source": [
    "\"\"\"\n",
    "Calculator with a different setup.\n",
    "I mantained the functionalities (or lack of them) of the original dumb calculator.\n",
    "I understand that was the objective of the exercise.\n",
    "\"\"\"\n",
    "print('Welcome to this calculator!')\n",
    "print('It can add and subtract whole numbers from zero to five')\n",
    "numbers = {'negative five': -5,'negative four': -4,'negative three': -3,'negative two': -2,\n",
    "           'negative one':-1,'zero':0,'one':1,'two':2,'three':3,'four':4,'five':5,'six':6,\n",
    "           'seven':7,'eight':8,'nine':9,'ten':10}\n",
    "a = input('Please choose your first number (zero to five): ')\n",
    "b = input('What do you want to do? plus or minus: ')\n",
    "c = input('Please choose your second number (zero to five): ')\n",
    "\n",
    "if numbers[a] not in [0,1,2,4,5] or numbers[c] not in [0,1,2,4,5] or b not in ['plus','minus']:\n",
    "    print(\"I am not able to answer this question. Check your input.\")\n",
    "else:\n",
    "    if b == \"plus\":\n",
    "        result = numbers[a] + numbers[c]\n",
    "        print(a + ' plus '  + c + ' equals ' + list(numbers.keys())[list(numbers.values()).index(result)])\n",
    "        print(\"Thanks for using this calculator, goodbye :)\")\n",
    "    elif b == \"minus\":\n",
    "        print(a + ' minus ' + c + ' equals ' + list(numbers.keys())[list(numbers.values()).index(result)])\n",
    "        print(\"Thanks for using this calculator, goodbye :)\")"
   ]
  }
 ],
 "metadata": {
  "kernelspec": {
   "display_name": "Python 3",
   "language": "python",
   "name": "python3"
  },
  "language_info": {
   "codemirror_mode": {
    "name": "ipython",
    "version": 3
   },
   "file_extension": ".py",
   "mimetype": "text/x-python",
   "name": "python",
   "nbconvert_exporter": "python",
   "pygments_lexer": "ipython3",
   "version": "3.8.2"
  }
 },
 "nbformat": 4,
 "nbformat_minor": 4
}
