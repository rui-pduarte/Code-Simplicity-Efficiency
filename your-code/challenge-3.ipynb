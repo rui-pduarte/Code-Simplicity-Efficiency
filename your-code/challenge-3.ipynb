{
 "cells": [
  {
   "cell_type": "code",
   "execution_count": 3,
   "metadata": {},
   "outputs": [
    {
     "name": "stdout",
     "output_type": "stream",
     "text": [
      "What is the maximal length of the triangle side? Enter a number: 15\n",
      "The longest side possible is 13\n"
     ]
    }
   ],
   "source": [
    "\"\"\"\n",
    "You are presented with an integer number larger than 5. Your goal is to identify the longest side\n",
    "possible in a right triangle whose sides are not longer than the number you are given.\n",
    "\n",
    "For example, if you are given the number 15, there are 3 possibilities to compose right triangles:\n",
    "\n",
    "1. [3, 4, 5]\n",
    "2. [6, 8, 10]\n",
    "3. [5, 12, 13]\n",
    "\n",
    "The following function shows one way to solve the problem but the code is not ideal or efficient.\n",
    "Refactor the code based on what you have learned about code simplicity and efficiency.\n",
    "\"\"\"\n",
    "def my_function(X):\n",
    "    solutions = []\n",
    "    for x in range(5, X):\n",
    "        for y in range(4, X):\n",
    "            for z in range(3, X):\n",
    "                if (x*x==y*y+z*z):\n",
    "                    solutions.append([x, y, z])\n",
    "    m = 0\n",
    "    for solution in solutions:\n",
    "        if m < max(solution):\n",
    "            m = max(solution)\n",
    "    return m\n",
    "\n",
    "X = input(\"What is the maximal length of the triangle side? Enter a number: \")\n",
    "print(\"The longest side possible is \" + str(my_function(int(X))))"
   ]
  },
  {
   "cell_type": "code",
   "execution_count": 130,
   "metadata": {},
   "outputs": [],
   "source": [
    "#I note that the example provided and the written text do no match.\n",
    "#The function is not including triangles which have hypotenuse of size n, while the instructions seem to be.\n",
    "#I followed the idea of the example (and code) of only getting smaller values [that would be changing c<n to c<=n]\n",
    "\n",
    "#The functions calculates things a bit differently. \n",
    "#It returns nothing if the number is 5 or below.\n",
    "#It it takes one of the loops out, and perhaps most importantly for large n,\n",
    "#It starts from n downwards leaving as soon as the solution is found.\n",
    "\n",
    "#Overall, since it was made just to reply to the question and not to store the sides of the triangle,\n",
    "#I also expect it to be faster.\n",
    "\n",
    "import math\n",
    "def my_function_rui(n):\n",
    "    n = int(n)\n",
    "    for b in range(n,0,-1):\n",
    "        for a in range(1, b):\n",
    "            c= (a**2 + b**2)**(1/2)\n",
    "            if c % 1 == 0 and c<n:\n",
    "                return (int(c))"
   ]
  },
  {
   "cell_type": "code",
   "execution_count": 136,
   "metadata": {
    "scrolled": true
   },
   "outputs": [
    {
     "name": "stdout",
     "output_type": "stream",
     "text": [
      "What is the maximal length of the triangle side? Enter a number: 15\n",
      "The longest side possible is 13\n"
     ]
    }
   ],
   "source": [
    "x = input(\"What is the maximal length of the triangle side? Enter a number: \")\n",
    "print(\"The longest side possible is \" + str(my_function_rui(x)))"
   ]
  },
  {
   "cell_type": "code",
   "execution_count": 131,
   "metadata": {},
   "outputs": [],
   "source": [
    "#Here I tried to do a list comprehesion\n",
    "#It works, but does not return when finding the value, so it looses the benefit of having switched the order.\n",
    "#It is printing the same because I took the zeroth element of the list.\n",
    "import math\n",
    "def my_function_rui_2(n):\n",
    "    return [int((a**2 + b**2)**(1/2)) for b in range(n,0,-1) for a in range(1, b) if((a**2 + b**2)**(1/2)%1==0) and (((a**2 + b**2)**(1/2))<n)][0]"
   ]
  },
  {
   "cell_type": "code",
   "execution_count": 135,
   "metadata": {
    "scrolled": true
   },
   "outputs": [
    {
     "data": {
      "text/plain": [
       "13"
      ]
     },
     "execution_count": 135,
     "metadata": {},
     "output_type": "execute_result"
    }
   ],
   "source": [
    "my_function_rui_2(15)"
   ]
  }
 ],
 "metadata": {
  "kernelspec": {
   "display_name": "Python 3",
   "language": "python",
   "name": "python3"
  },
  "language_info": {
   "codemirror_mode": {
    "name": "ipython",
    "version": 3
   },
   "file_extension": ".py",
   "mimetype": "text/x-python",
   "name": "python",
   "nbconvert_exporter": "python",
   "pygments_lexer": "ipython3",
   "version": "3.8.2"
  }
 },
 "nbformat": 4,
 "nbformat_minor": 4
}
